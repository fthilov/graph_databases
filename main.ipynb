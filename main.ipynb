{
 "cells": [
  {
   "cell_type": "markdown",
   "metadata": {},
   "source": [
    "# Graph Database - Hands On\n",
    "In the following sections you will get a deep dive in Cypher Query Language and how to add, update and remove data of your graph database."
   ]
  },
  {
   "cell_type": "markdown",
   "metadata": {},
   "source": [
    "### Init connection to the database"
   ]
  },
  {
   "cell_type": "code",
   "execution_count": null,
   "metadata": {},
   "outputs": [],
   "source": [
    "from py2neo import Graph, Node, Relationship\n",
    "\n",
    "DATABASE_URL = \"bolt://localhost:7687\"\n",
    "USERNAME = \"neo4j\"\n",
    "PASSWORD = \"test1234\"\n",
    "\n",
    "graph = Graph(DATABASE_URL, auth=(USERNAME, PASSWORD))\n",
    "\n",
    "if graph:\n",
    "    print(\"Connected to the database\")"
   ]
  },
  {
   "cell_type": "markdown",
   "metadata": {},
   "source": [
    "### Create nodes"
   ]
  },
  {
   "cell_type": "code",
   "execution_count": null,
   "metadata": {},
   "outputs": [],
   "source": [
    "# Define queries to create person nodes by using Cypher\n",
    "add_person_node_1 = \"CREATE (p:Person {name: 'John Doe', age: 25}) RETURN p\"\n",
    "add_person_node_2 = \"CREATE (p:Person {name: 'Max Mustermann', age: 48}) RETURN p\"\n",
    "\n",
    "# Create person nodes in the database\n",
    "graph.run(add_person_node_1)\n",
    "graph.run(add_person_node_2)\n",
    "\n",
    "# Define query to get all person nodes\n",
    "get_all_person_nodes = \"MATCH (p:Person) RETURN p.name AS name, p.age AS age\"\n",
    "\n",
    "# Get all person nodes from the database\n",
    "result = graph.run(get_all_person_nodes).to_data_frame()\n",
    "\n",
    "# Print all person nodes\n",
    "result"
   ]
  },
  {
   "cell_type": "markdown",
   "metadata": {},
   "source": [
    "### Create relationship between John Doe and Max Mustermann"
   ]
  },
  {
   "cell_type": "code",
   "execution_count": null,
   "metadata": {},
   "outputs": [],
   "source": [
    "# Define query to create relationship between person nodes\n",
    "add_relationship = \"\"\"\n",
    "MATCH (p1:Person {name: 'John Doe', age: 25}), (p2:Person {name: 'Max Mustermann', age: 48})\n",
    "CREATE (p1)-[r:FRIENDS_WITH]->(p2)\n",
    "\"\"\"\n",
    "\n",
    "# Create relationship between person nodes in the database\n",
    "graph.run(add_relationship)\n",
    "\n",
    "# Define query to get all relationships\n",
    "get_all_relationships = \"MATCH (p1:Person)-[r:FRIENDS_WITH]->(p2:Person) RETURN p1.name AS person1, p2.name AS person2, type(r) AS relationship\"\n",
    "result = graph.run(get_all_relationships).to_data_frame()\n",
    "\n",
    "# Print all relationships\n",
    "result"
   ]
  },
  {
   "cell_type": "markdown",
   "metadata": {},
   "source": [
    "### Update node properties"
   ]
  },
  {
   "cell_type": "code",
   "execution_count": null,
   "metadata": {},
   "outputs": [],
   "source": [
    "# Define query to get update person node properties\n",
    "update_person_node = \"MATCH (p:Person {name: 'John Doe', age: 25}) SET p.age = 26 RETURN DISTINCT p\"\n",
    "\n",
    "# Update person node properties in the database\n",
    "graph.run(update_person_node)\n",
    "\n",
    "# Define query to get updated person node\n",
    "get_updated_person = \"MATCH (p:Person {name: 'John Doe'}) RETURN p.name AS name, p.age AS age\"\n",
    "\n",
    "# Get updated person node from the database\n",
    "result = graph.run(get_updated_person).to_data_frame()\n",
    "\n",
    "# Print updated person node\n",
    "result"
   ]
  },
  {
   "cell_type": "markdown",
   "metadata": {},
   "source": [
    "### Clear Database"
   ]
  },
  {
   "cell_type": "code",
   "execution_count": null,
   "metadata": {},
   "outputs": [],
   "source": [
    "# Define query to clear the database\n",
    "clear_database = \"MATCH (n) DETACH DELETE n\"\n",
    "\n",
    "# Clear the database\n",
    "graph.run(clear_database)"
   ]
  }
 ],
 "metadata": {
  "kernelspec": {
   "display_name": "venv",
   "language": "python",
   "name": "python3"
  },
  "language_info": {
   "codemirror_mode": {
    "name": "ipython",
    "version": 3
   },
   "file_extension": ".py",
   "mimetype": "text/x-python",
   "name": "python",
   "nbconvert_exporter": "python",
   "pygments_lexer": "ipython3",
   "version": "3.13.1"
  }
 },
 "nbformat": 4,
 "nbformat_minor": 2
}
