{
 "cells": [
  {
   "cell_type": "markdown",
   "metadata": {},
   "source": [
    "# Graph Database - Hands On\n",
    "In the following sections you will get a deep dive in Cypher Query Language and how to add, update and remove data of your graph database.\n",
    "\n",
    "The example consists of:\n",
    "- 3 students\n",
    "- 1 professor\n",
    "- 3 cities\n",
    "- 1 university"
   ]
  },
  {
   "cell_type": "markdown",
   "metadata": {},
   "source": [
    "### Init connection to the database"
   ]
  },
  {
   "cell_type": "code",
   "execution_count": null,
   "metadata": {},
   "outputs": [],
   "source": [
    "from py2neo import Graph\n",
    "\n",
    "DATABASE_URL = \"bolt://localhost:7687\"\n",
    "USERNAME = \"neo4j\"\n",
    "PASSWORD = \"test1234\"\n",
    "\n",
    "graph = Graph(DATABASE_URL, auth=(USERNAME, PASSWORD))\n",
    "\n",
    "if graph:\n",
    "    print(\"Connected to the database\")"
   ]
  },
  {
   "cell_type": "markdown",
   "metadata": {},
   "source": [
    "### Optionally: Reset Graph Database"
   ]
  },
  {
   "cell_type": "code",
   "execution_count": null,
   "metadata": {},
   "outputs": [],
   "source": [
    "reset_graph_query = \"MATCH (n) DETACH DELETE n\"\n",
    "\n",
    "graph.run(reset_graph_query)\n",
    "\n",
    "print(\"Database resetted successfully\")"
   ]
  },
  {
   "cell_type": "markdown",
   "metadata": {},
   "source": [
    "### Create nodes"
   ]
  },
  {
   "cell_type": "code",
   "execution_count": null,
   "metadata": {},
   "outputs": [],
   "source": [
    "# Define queries to create person nodes by using Cypher\n",
    "student_node_1 = \"CREATE (p:Person:Student {name: 'John Doe', age: 20}) RETURN p\"\n",
    "student_node_2 = \"CREATE (p:Person:Student {name: 'Leon Marshall', age: 22}) RETURN p\"\n",
    "student_node_3 = \"CREATE (p:Person:Student {name: 'Oliver Watts', age: 19}) RETURN p\"\n",
    "professor_node = \"CREATE (p:Person:Professor {name: 'Aaron Moss', age: 55}) RETURN p\"\n",
    "city_node_1 = \"CREATE (c:City {name: 'Stuttgart'}) RETURN c\"\n",
    "city_node_2 = \"CREATE (c:City {name: 'Karlsruhe'}) RETURN c\"\n",
    "city_node_3 = \"CREATE (c:City {name: 'Reutlingen'}) RETURN c\"\n",
    "university_node = \"CREATE (u:University {name: 'DHBW Stuttgart'}) RETURN u\"\n",
    "\n",
    "# Create person nodes in the database\n",
    "graph.run(student_node_1)\n",
    "graph.run(student_node_2)\n",
    "graph.run(student_node_3)\n",
    "graph.run(professor_node)\n",
    "graph.run(city_node_1)\n",
    "graph.run(city_node_2)\n",
    "graph.run(city_node_3)\n",
    "graph.run(university_node)\n",
    "\n",
    "print(\"Nodes created successfully\")"
   ]
  },
  {
   "cell_type": "markdown",
   "metadata": {},
   "source": [
    "### Get all Person Nodes"
   ]
  },
  {
   "cell_type": "code",
   "execution_count": null,
   "metadata": {},
   "outputs": [],
   "source": [
    "# Define query to get all person nodes\n",
    "get_all_person_nodes = \"MATCH (p:Person) RETURN labels(p) as Label, p.name AS name, p.age AS age\"\n",
    "\n",
    "# Get all person nodes from the database\n",
    "result = graph.run(get_all_person_nodes).to_data_frame()\n",
    "\n",
    "# Print all person nodes\n",
    "result"
   ]
  },
  {
   "cell_type": "markdown",
   "metadata": {},
   "source": [
    "### Get all City Nodes "
   ]
  },
  {
   "cell_type": "code",
   "execution_count": null,
   "metadata": {},
   "outputs": [],
   "source": [
    "# Define query to get all city nodes\n",
    "get_all_person_nodes = \"MATCH (c:City) RETURN c.name AS name\"\n",
    "\n",
    "# Get all city nodes from the database\n",
    "result = graph.run(get_all_person_nodes).to_data_frame()\n",
    "\n",
    "# Print all city nodes\n",
    "result"
   ]
  },
  {
   "cell_type": "markdown",
   "metadata": {},
   "source": [
    "### Get all University Nodes"
   ]
  },
  {
   "cell_type": "code",
   "execution_count": null,
   "metadata": {},
   "outputs": [],
   "source": [
    "# Define query to get all university nodes\n",
    "get_all_university_nodes = \"MATCH (u:University) RETURN u.name AS name\"\n",
    "\n",
    "# Get all university nodes from the database\n",
    "result = graph.run(get_all_university_nodes).to_data_frame()\n",
    "\n",
    "# Print all university nodes\n",
    "result"
   ]
  },
  {
   "cell_type": "markdown",
   "metadata": {},
   "source": [
    "### Create relationships"
   ]
  },
  {
   "cell_type": "code",
   "execution_count": null,
   "metadata": {},
   "outputs": [],
   "source": [
    "# Define query to create relationship between university and city node\n",
    "university_city_rel = \"\"\"\n",
    "MATCH (u:University {name: 'DHBW Stuttgart'}), (c:City {name: 'Stuttgart'})\n",
    "CREATE (u)-[:LOCATED_IN]->(c)\n",
    "\"\"\"\n",
    "\n",
    "# Relationship between professor and students\n",
    "professor_students_rel = \"\"\"\n",
    "MATCH (prof:Professor {name: 'Aaron Moss'}), (student1:Student {name: 'John Doe'}), (student2:Student {name: 'Leon Marshall'}), (student3:Student {name: 'Oliver Watts'})\n",
    "CREATE (prof)-[:TEACHES]->(student1), (prof)-[:TEACHES]->(student2), (prof)-[:TEACHES]->(student3)\n",
    "\"\"\"\n",
    "\n",
    "# Relationship between professor and city\n",
    "professor_city_rel = \"\"\"\n",
    "MATCH (prof:Professor {name: 'Aaron Moss'}), (c:City {name: 'Stuttgart'})\n",
    "CREATE (prof)-[:LIVES_IN]->(c)\n",
    "\"\"\"\n",
    "\n",
    "# Relationship between professor and university\n",
    "professor_university_rel = \"\"\"\n",
    "MATCH (prof:Professor {name: 'Aaron Moss'}), (u:University {name: 'DHBW Stuttgart'})\n",
    "CREATE (prof)-[:WORKS_AT]->(u)\n",
    "\"\"\"\n",
    "\n",
    "# Relationship between student and city\n",
    "student_city_rel_1 = \"\"\"\n",
    "MATCH (student:Student {name: 'John Doe'}), (c:City {name: 'Karlsruhe'})\n",
    "CREATE (student)-[:LIVES_IN]->(c)\n",
    "\"\"\"\n",
    "student_city_rel_2 = \"\"\" \n",
    "MATCH (student:Student {name: 'Leon Marshall'}), (c:City {name: 'Stuttgart'})\n",
    "CREATE (student)-[:LIVES_IN]->(c)\n",
    "\"\"\"\n",
    "student_city_rel_3 = \"\"\"\n",
    "MATCH (student:Student {name: 'Oliver Watts'}), (c:City {name: 'Reutlingen'})\n",
    "CREATE (student)-[:LIVES_IN]->(c)\n",
    "\"\"\"\n",
    "\n",
    "# Relationship between student and university\n",
    "student_university_rel = \"\"\"\n",
    "MATCH (student1:Student {name: 'John Doe'}), (student2:Student {name: 'Leon Marshall'}), (student3:Student {name: 'Oliver Watts'}), (u:University {name: 'DHBW Stuttgart'})\n",
    "CREATE (student1)-[:STUDIES_AT]->(u), (student2)-[:STUDIES_AT]->(u), (student3)-[:STUDIES_AT]->(u)\n",
    "\"\"\"\n",
    "\n",
    "# Create relationship between university and city node\n",
    "graph.run(university_city_rel)\n",
    "graph.run(professor_students_rel)\n",
    "graph.run(professor_city_rel)\n",
    "graph.run(professor_university_rel)\n",
    "graph.run(student_city_rel_1)\n",
    "graph.run(student_city_rel_2)\n",
    "graph.run(student_city_rel_3)\n",
    "graph.run(student_university_rel)\n",
    "\n",
    "print(\"Relationships created successfully\")"
   ]
  },
  {
   "cell_type": "markdown",
   "metadata": {},
   "source": [
    "### Update node properties"
   ]
  },
  {
   "cell_type": "code",
   "execution_count": null,
   "metadata": {},
   "outputs": [],
   "source": [
    "# Define query to get update person node properties\n",
    "update_person_node = \"MATCH (p:Person {name: 'John Doe', age: 25}) SET p.age = 26 RETURN DISTINCT p\"\n",
    "\n",
    "# Update person node properties in the database\n",
    "graph.run(update_person_node)\n",
    "\n",
    "# Define query to get updated person node\n",
    "get_updated_person = \"MATCH (p:Person {name: 'John Doe'}) RETURN p.name AS name, p.age AS age\"\n",
    "\n",
    "# Get updated person node from the database\n",
    "result = graph.run(get_updated_person).to_data_frame()\n",
    "\n",
    "# Print updated person node\n",
    "result"
   ]
  }
 ],
 "metadata": {
  "kernelspec": {
   "display_name": "venv",
   "language": "python",
   "name": "python3"
  },
  "language_info": {
   "codemirror_mode": {
    "name": "ipython",
    "version": 3
   },
   "file_extension": ".py",
   "mimetype": "text/x-python",
   "name": "python",
   "nbconvert_exporter": "python",
   "pygments_lexer": "ipython3",
   "version": "3.13.1"
  }
 },
 "nbformat": 4,
 "nbformat_minor": 2
}
