{
 "cells": [
  {
   "cell_type": "markdown",
   "metadata": {},
   "source": [
    "# Graph Database - Hands On\n",
    "In the following sections you will get a deep dive in Cypher Query Language and how to add, update and remove data of your graph database.\n",
    "\n",
    "The example consists of:\n",
    "- 3 students\n",
    "- 1 professor\n",
    "- 1 city\n",
    "- 1 university"
   ]
  },
  {
   "cell_type": "markdown",
   "metadata": {},
   "source": [
    "### Init connection to the database"
   ]
  },
  {
   "cell_type": "code",
   "execution_count": null,
   "metadata": {},
   "outputs": [],
   "source": [
    "from py2neo import Graph\n",
    "\n",
    "DATABASE_URL = \"bolt://localhost:7687\"\n",
    "USERNAME = \"neo4j\"\n",
    "PASSWORD = \"test1234\"\n",
    "\n",
    "graph = Graph(DATABASE_URL, auth=(USERNAME, PASSWORD))\n",
    "\n",
    "if graph:\n",
    "    print(\"Connected to the database\")"
   ]
  },
  {
   "cell_type": "markdown",
   "metadata": {},
   "source": [
    "### Optionally: Reset Graph Database"
   ]
  },
  {
   "cell_type": "code",
   "execution_count": null,
   "metadata": {},
   "outputs": [],
   "source": [
    "reset_graph_query = \"MATCH (n) DETACH DELETE n\"\n",
    "\n",
    "graph.run(reset_graph_query)\n",
    "\n",
    "print(\"Database resetted successfully\")"
   ]
  },
  {
   "cell_type": "markdown",
   "metadata": {},
   "source": [
    "### Create nodes"
   ]
  },
  {
   "cell_type": "code",
   "execution_count": null,
   "metadata": {},
   "outputs": [],
   "source": [
    "# Define queries to create person nodes by using Cypher\n",
    "student_node_1 = \"CREATE (p:Person:Student {name: 'John Doe', age: 20}) RETURN p\"\n",
    "student_node_2 = \"CREATE (p:Person:Student {name: 'Leon Marshall', age: 22}) RETURN p\"\n",
    "student_node_3 = \"CREATE (p:Person:Student {name: 'Oliver Watts', age: 19}) RETURN p\"\n",
    "professor_node = \"CREATE (p:Person:Professor {name: 'Aaron Moss', age: 55}) RETURN p\"\n",
    "city_node = \"CREATE (c:City {name: 'Stuttgart'}) RETURN c\"\n",
    "university_node = \"CREATE (u:University {name: 'Duale Hochschule Baden-Württemberg'}) RETURN u\"\n",
    "\n",
    "# Create person nodes in the database\n",
    "graph.run(student_node_1)\n",
    "graph.run(student_node_2)\n",
    "graph.run(student_node_3)\n",
    "graph.run(professor_node)\n",
    "graph.run(city_node)\n",
    "graph.run(university_node)\n",
    "\n",
    "print(\"Nodes created successfully\")"
   ]
  },
  {
   "cell_type": "markdown",
   "metadata": {},
   "source": [
    "### Get all Person Nodes"
   ]
  },
  {
   "cell_type": "code",
   "execution_count": null,
   "metadata": {},
   "outputs": [],
   "source": [
    "# Define query to get all person nodes\n",
    "get_all_person_nodes = \"MATCH (p:Person) RETURN labels(p) as Label, p.name AS name, p.age AS age\"\n",
    "\n",
    "# Get all person nodes from the database\n",
    "result = graph.run(get_all_person_nodes).to_data_frame()\n",
    "\n",
    "# Print all person nodes\n",
    "result"
   ]
  },
  {
   "cell_type": "markdown",
   "metadata": {},
   "source": [
    "### Get all City Nodes "
   ]
  },
  {
   "cell_type": "code",
   "execution_count": null,
   "metadata": {},
   "outputs": [],
   "source": [
    "# Define query to get all city nodes\n",
    "get_all_person_nodes = \"MATCH (c:City) RETURN c.name AS name\"\n",
    "\n",
    "# Get all city nodes from the database\n",
    "result = graph.run(get_all_person_nodes).to_data_frame()\n",
    "\n",
    "# Print all city nodes\n",
    "result"
   ]
  },
  {
   "cell_type": "markdown",
   "metadata": {},
   "source": [
    "### Get all University Nodes"
   ]
  },
  {
   "cell_type": "code",
   "execution_count": null,
   "metadata": {},
   "outputs": [],
   "source": [
    "# Define query to get all university nodes\n",
    "get_all_university_nodes = \"MATCH (u:University) RETURN u.name AS name\"\n",
    "\n",
    "# Get all university nodes from the database\n",
    "result = graph.run(get_all_university_nodes).to_data_frame()\n",
    "\n",
    "# Print all university nodes\n",
    "result"
   ]
  },
  {
   "cell_type": "markdown",
   "metadata": {},
   "source": [
    "### Create relationships"
   ]
  },
  {
   "cell_type": "code",
   "execution_count": null,
   "metadata": {},
   "outputs": [],
   "source": [
    "# Define query to create relationship between university and city node\n",
    "university_city_rel = \"\"\"\n",
    "MATCH (u:University {name: 'Duale Hochschule Baden-Württemberg'}), (c:City {name: 'Stuttgart'})\n",
    "CREATE (u)-[r:LOCATED_IN]->(c)\n",
    "\"\"\"\n",
    "\n",
    "# Create relationship between person nodes in the database\n",
    "graph.run(university_city_rel)\n",
    "\n",
    "# Define query to get all relationships\n",
    "get_all_relationships = \"MATCH (u:University)-[r:LOCATED_IN]->(c:City) RETURN u.name AS University, type(r) AS relationship, c.name AS City\"\n",
    "result = graph.run(get_all_relationships).to_data_frame()\n",
    "\n",
    "# Print all relationships\n",
    "result"
   ]
  },
  {
   "cell_type": "markdown",
   "metadata": {},
   "source": [
    "### Update node properties"
   ]
  },
  {
   "cell_type": "code",
   "execution_count": null,
   "metadata": {},
   "outputs": [],
   "source": [
    "# Define query to get update person node properties\n",
    "update_person_node = \"MATCH (p:Person {name: 'John Doe', age: 25}) SET p.age = 26 RETURN DISTINCT p\"\n",
    "\n",
    "# Update person node properties in the database\n",
    "graph.run(update_person_node)\n",
    "\n",
    "# Define query to get updated person node\n",
    "get_updated_person = \"MATCH (p:Person {name: 'John Doe'}) RETURN p.name AS name, p.age AS age\"\n",
    "\n",
    "# Get updated person node from the database\n",
    "result = graph.run(get_updated_person).to_data_frame()\n",
    "\n",
    "# Print updated person node\n",
    "result"
   ]
  },
  {
   "cell_type": "markdown",
   "metadata": {},
   "source": [
    "### Clear Database"
   ]
  },
  {
   "cell_type": "code",
   "execution_count": null,
   "metadata": {},
   "outputs": [],
   "source": [
    "# Define query to clear the database\n",
    "clear_database = \"MATCH (n) DETACH DELETE n\"\n",
    "\n",
    "# Clear the database\n",
    "graph.run(clear_database)"
   ]
  }
 ],
 "metadata": {
  "kernelspec": {
   "display_name": "venv",
   "language": "python",
   "name": "python3"
  },
  "language_info": {
   "codemirror_mode": {
    "name": "ipython",
    "version": 3
   },
   "file_extension": ".py",
   "mimetype": "text/x-python",
   "name": "python",
   "nbconvert_exporter": "python",
   "pygments_lexer": "ipython3",
   "version": "3.13.1"
  }
 },
 "nbformat": 4,
 "nbformat_minor": 2
}
